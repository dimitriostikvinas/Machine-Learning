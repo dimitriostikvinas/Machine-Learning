{
  "cells": [
    {
      "cell_type": "markdown",
      "metadata": {
        "id": "aeF4qTmfveeb"
      },
      "source": [
        "## About iPython Notebooks ##\n",
        "\n",
        "iPython Notebooks are interactive coding environments embedded in a webpage. You will be using iPython notebooks in this class. Make sure you fill in any place that says `# BEGIN CODE HERE #END CODE HERE`. After writing your code, you can run the cell by either pressing \"SHIFT\"+\"ENTER\" or by clicking on \"Run\" (denoted by a play symbol). Before you turn this problem in, make sure everything runs as expected. First, **restart the kernel** (in the menubar, select Kernel$\\rightarrow$Restart) and then **run all cells** (in the menubar, select Cell$\\rightarrow$Run All). \n",
        "\n",
        " **What you need to remember:**\n",
        "\n",
        "- Run your cells using SHIFT+ENTER (or \"Run cell\")\n",
        "- Write code in the designated areas using Python 3 only\n",
        "- Do not modify the code outside of the designated areas\n",
        "- In some cases you will also need to explain the results. There will also be designated areas for that. \n",
        "\n",
        "Fill in your **NAME** and **AEM** below:"
      ]
    },
    {
      "cell_type": "code",
      "execution_count": 234,
      "metadata": {
        "id": "ZCY3tJjnveei"
      },
      "outputs": [],
      "source": [
        "NAME = \"Dimitrios Tikvinas\"\n",
        "AEM = \"9998\""
      ]
    },
    {
      "cell_type": "markdown",
      "metadata": {
        "id": "lpED3Vwlveek"
      },
      "source": [
        "---"
      ]
    },
    {
      "cell_type": "markdown",
      "metadata": {
        "id": "0LK7HlL9r2k1"
      },
      "source": [
        "# Assignment 1 - Linear Models #"
      ]
    },
    {
      "cell_type": "markdown",
      "metadata": {
        "id": "Ww0lVWmTsBOF"
      },
      "source": [
        "Welcome to your first assignment. This exercise gives you a brief introduction to Python and the fundamental libraries for machine learning. It also gives you a wide understanding on how linear models work.  "
      ]
    },
    {
      "cell_type": "markdown",
      "metadata": {
        "id": "gK7GYZ6ouIGC"
      },
      "source": [
        "After this assignment you will:\n",
        "- Be able to use iPython Notebooks\n",
        "- Be able to use basic numpy and pandas functions\n",
        "- Be able to build your first linear model from scratch\n",
        "- Be able to use the basic functions of scikit-learn "
      ]
    },
    {
      "cell_type": "markdown",
      "metadata": {
        "id": "lzpRolujz4zs"
      },
      "source": [
        "## 1. Numpy & Pandas ##\n",
        "\n",
        "The [**NumPy**](https://numpy.org/) library is the core library for scientific computing in Python. It provides a high-performance multidimensional array object, and tools for working with these arrays. \n",
        "\n",
        "The [**Pandas**](https://pandas.pydata.org/) library is built on NumPy and provides easy-to-use data structures and data analysis tools for the Python programming language.\n",
        "\n",
        "Feel free to look at the documentation ([NumPy Doc](https://numpy.org/doc/1.18/user/quickstart.html) & [Pandas Doc](https://pandas.pydata.org/docs/)) of those libraries troughout this assignment. \n",
        "\n",
        "As a convention we always import the libraries as follows: "
      ]
    },
    {
      "cell_type": "code",
      "execution_count": 235,
      "metadata": {
        "id": "ydtbUhRK1Mwd"
      },
      "outputs": [],
      "source": [
        "# Run this cell\n",
        "import numpy as np\n",
        "import pandas as pd"
      ]
    },
    {
      "cell_type": "markdown",
      "metadata": {
        "id": "R047IOKS0jbm"
      },
      "source": [
        "### 1.1 The very basic of NumPy ### (1 points)"
      ]
    },
    {
      "cell_type": "markdown",
      "metadata": {
        "id": "dDa8wbkp3tcJ"
      },
      "source": [
        "**1.1.1 Exercise**: Create a 3-dimensional *NumPy* array (3x5) which contains the numbers 1-15 on variable 'a'. Moreover, create another *NumPy* array of dimensions (3x2) of random values (0 to 1) using the fucntions np.random.random on variable 'b'. *(An example of an expected outcome is also provided)*\n",
        "\n"
      ]
    },
    {
      "cell_type": "code",
      "execution_count": 236,
      "metadata": {
        "colab": {
          "base_uri": "https://localhost:8080/"
        },
        "id": "sRd0XYXap0KQ",
        "outputId": "afd4a9ee-c1e9-4f3e-aefe-f13eb2ed1256"
      },
      "outputs": [
        {
          "output_type": "stream",
          "name": "stdout",
          "text": [
            "[[ 1  2  3  4  5]\n",
            " [ 6  7  8  9 10]\n",
            " [11 12 13 14 15]]\n",
            "[[0.37454012 0.95071431]\n",
            " [0.73199394 0.59865848]\n",
            " [0.15601864 0.15599452]]\n"
          ]
        }
      ],
      "source": [
        "np.random.seed(42)\n",
        "# BEGIN CODE HERE\n",
        "a = np.arange(1,16).reshape((3,5))\n",
        "b = b = np.random.random((3,2))\n",
        "# END CODE HERE\n",
        "print(a)\n",
        "print(b)"
      ]
    },
    {
      "cell_type": "markdown",
      "metadata": {
        "id": "eEsIzDKU63UA"
      },
      "source": [
        "**1.1.2 Exercise**: Perform the dot product of 'a' transpose with 'b' and assign the result to variable 'c' using Numpy. *(An example of an expected outcome is also provided, the produced matrix should have 5x2 dimensions)*"
      ]
    },
    {
      "cell_type": "code",
      "execution_count": 237,
      "metadata": {
        "colab": {
          "base_uri": "https://localhost:8080/"
        },
        "id": "Z99j4XAs5Xwu",
        "outputId": "07b28675-6131-42a7-fb9d-30485cb015ba"
      },
      "outputs": [
        {
          "output_type": "stream",
          "name": "stdout",
          "text": [
            "[[ 6.48270881  6.25860494]\n",
            " [ 7.74526152  7.96397225]\n",
            " [ 9.00781422  9.66933956]\n",
            " [10.27036692 11.37470687]\n",
            " [11.53291962 13.08007418]]\n"
          ]
        }
      ],
      "source": [
        "# BEGIN CODE HERE\n",
        "c = np.dot(np.transpose(a), b)\n",
        "# END CODE HERE\n",
        "print(c)"
      ]
    },
    {
      "cell_type": "markdown",
      "metadata": {
        "id": "tySai5aIFVJC"
      },
      "source": [
        "Two common numpy functions used are [np.shape](https://docs.scipy.org/doc/numpy/reference/generated/numpy.ndarray.shape.html) and [np.reshape()](https://docs.scipy.org/doc/numpy/reference/generated/numpy.reshape.html). \n",
        "- X.shape is used to get the shape (dimension) of a matrix/vector X. \n",
        "- X.reshape(...) is used to reshape X into some other dimension. "
      ]
    },
    {
      "cell_type": "markdown",
      "metadata": {
        "id": "BlzbLWeEyvo7"
      },
      "source": [
        "**1.1.3 Exercise**: Use the function **shape** to print the shape of variable **c** and the function **reshape** to change the dimensions of **c** from 5x2 to 1x10. *(An example of an expected outcome is also provided)*"
      ]
    },
    {
      "cell_type": "code",
      "execution_count": 238,
      "metadata": {
        "colab": {
          "base_uri": "https://localhost:8080/"
        },
        "id": "5QJUgXPIzN6Z",
        "outputId": "208c75c7-3057-4534-c6b8-a67e6d88a15b"
      },
      "outputs": [
        {
          "output_type": "stream",
          "name": "stdout",
          "text": [
            "shape_random_array: (5, 2)\n",
            "reshaped_one_array: [[ 6.48270881  6.25860494  7.74526152  7.96397225  9.00781422  9.66933956\n",
            "  10.27036692 11.37470687 11.53291962 13.08007418]]\n"
          ]
        }
      ],
      "source": [
        "np.random.seed(42)\n",
        "# BEGIN CODE HERE\n",
        "shape_c =  np.shape(c)\n",
        "reshaped_c =np.reshape(c, (1, 10))\n",
        "#END CODE HERE\n",
        "print(\"shape_random_array:\", shape_c)\n",
        "print(\"reshaped_one_array:\", reshaped_c)"
      ]
    },
    {
      "cell_type": "markdown",
      "metadata": {
        "id": "o3DYNNXZIbYd"
      },
      "source": [
        "**1.1.4 Exercise**: Create an array of 9 evenly spaced values from 0 to 5 using the **np.linspace()** function. (An example of an expected outcome is also provided)"
      ]
    },
    {
      "cell_type": "code",
      "execution_count": 239,
      "metadata": {
        "colab": {
          "base_uri": "https://localhost:8080/"
        },
        "id": "Sv_Z5G63QxOd",
        "outputId": "1de933ea-5958-4b0f-992f-f5151247450a"
      },
      "outputs": [
        {
          "output_type": "stream",
          "name": "stdout",
          "text": [
            "x: [0.    0.625 1.25  1.875 2.5   3.125 3.75  4.375 5.   ]\n"
          ]
        }
      ],
      "source": [
        "# BEGIN CODE HERE\n",
        "x = np.linspace(0, 5, 9)\n",
        "\n",
        "#END CODE HERE\n",
        "print(\"x: \" + str(x))"
      ]
    },
    {
      "cell_type": "markdown",
      "metadata": {
        "id": "JRhZvHsYvFjV"
      },
      "source": [
        "**1.1.5 Exercise**: Create a dictionary (hashmap) containing two keys: *lin_space*, *dot_product* and assign them the variables **x**, and **c**, respectively. Then, you should retrieve the values of both keys and print them. (An example of an expected outcome is also provided)"
      ]
    },
    {
      "cell_type": "code",
      "execution_count": 240,
      "metadata": {
        "colab": {
          "base_uri": "https://localhost:8080/"
        },
        "id": "KEjffLTyv0IO",
        "outputId": "13f23efd-ce33-40bf-fdaa-1f3c729c342d"
      },
      "outputs": [
        {
          "output_type": "stream",
          "name": "stdout",
          "text": [
            "[0.    0.625 1.25  1.875 2.5   3.125 3.75  4.375 5.   ]\n",
            "[[ 6.48270881  6.25860494]\n",
            " [ 7.74526152  7.96397225]\n",
            " [ 9.00781422  9.66933956]\n",
            " [10.27036692 11.37470687]\n",
            " [11.53291962 13.08007418]]\n"
          ]
        }
      ],
      "source": [
        "# BEGIN CODE HERE\n",
        "hashmap = dict({\"lin_space\":x, \n",
        "                \"dot_product\":c})\n",
        "print(hashmap[\"lin_space\"])\n",
        "print(hashmap[\"dot_product\"])\n",
        "#END CODE HERE\n",
        "assert (isinstance(hashmap, dict))"
      ]
    },
    {
      "cell_type": "markdown",
      "metadata": {
        "id": "V--bLaLSRE2y"
      },
      "source": [
        "### 1.2 The very basics of Pandas ### (0.5)"
      ]
    },
    {
      "cell_type": "markdown",
      "metadata": {
        "id": "xIHQMFo_RisD"
      },
      "source": [
        "- Read & Write CSV\n",
        "- slices"
      ]
    },
    {
      "cell_type": "markdown",
      "metadata": {
        "id": "_41lZvsfCqAp"
      },
      "source": [
        "**1.2.1 Exercise:** Read the file input.csv into a dataframe using the pandas read_csv() function. (An example of an expected outcome is also provided)\n",
        "\n"
      ]
    },
    {
      "cell_type": "code",
      "execution_count": 241,
      "metadata": {
        "colab": {
          "base_uri": "https://localhost:8080/",
          "height": 206
        },
        "id": "xwLYDfXeTqBM",
        "outputId": "956db1d8-0537-4ce5-955d-07aba048174f"
      },
      "outputs": [
        {
          "output_type": "execute_result",
          "data": {
            "text/plain": [
              "   age  sex  cp  trestbps  chol  fbs  restecg  thalach  exang  oldpeak  slope  \\\n",
              "0   63    1   3       145   233    1        0      150      0      2.3      0   \n",
              "1   37    1   2       130   250    0        1      187      0      3.5      0   \n",
              "2   41    0   1       130   204    0        0      172      0      1.4      2   \n",
              "3   56    1   1       120   236    0        1      178      0      0.8      2   \n",
              "4   57    0   0       120   354    0        1      163      1      0.6      2   \n",
              "\n",
              "   ca  thal  target  \n",
              "0   0     1       1  \n",
              "1   0     2       1  \n",
              "2   0     2       1  \n",
              "3   0     2       1  \n",
              "4   0     2       1  "
            ],
            "text/html": [
              "\n",
              "  <div id=\"df-fe82fb56-ce20-4a2a-bd4a-8b0391b004ab\">\n",
              "    <div class=\"colab-df-container\">\n",
              "      <div>\n",
              "<style scoped>\n",
              "    .dataframe tbody tr th:only-of-type {\n",
              "        vertical-align: middle;\n",
              "    }\n",
              "\n",
              "    .dataframe tbody tr th {\n",
              "        vertical-align: top;\n",
              "    }\n",
              "\n",
              "    .dataframe thead th {\n",
              "        text-align: right;\n",
              "    }\n",
              "</style>\n",
              "<table border=\"1\" class=\"dataframe\">\n",
              "  <thead>\n",
              "    <tr style=\"text-align: right;\">\n",
              "      <th></th>\n",
              "      <th>age</th>\n",
              "      <th>sex</th>\n",
              "      <th>cp</th>\n",
              "      <th>trestbps</th>\n",
              "      <th>chol</th>\n",
              "      <th>fbs</th>\n",
              "      <th>restecg</th>\n",
              "      <th>thalach</th>\n",
              "      <th>exang</th>\n",
              "      <th>oldpeak</th>\n",
              "      <th>slope</th>\n",
              "      <th>ca</th>\n",
              "      <th>thal</th>\n",
              "      <th>target</th>\n",
              "    </tr>\n",
              "  </thead>\n",
              "  <tbody>\n",
              "    <tr>\n",
              "      <th>0</th>\n",
              "      <td>63</td>\n",
              "      <td>1</td>\n",
              "      <td>3</td>\n",
              "      <td>145</td>\n",
              "      <td>233</td>\n",
              "      <td>1</td>\n",
              "      <td>0</td>\n",
              "      <td>150</td>\n",
              "      <td>0</td>\n",
              "      <td>2.3</td>\n",
              "      <td>0</td>\n",
              "      <td>0</td>\n",
              "      <td>1</td>\n",
              "      <td>1</td>\n",
              "    </tr>\n",
              "    <tr>\n",
              "      <th>1</th>\n",
              "      <td>37</td>\n",
              "      <td>1</td>\n",
              "      <td>2</td>\n",
              "      <td>130</td>\n",
              "      <td>250</td>\n",
              "      <td>0</td>\n",
              "      <td>1</td>\n",
              "      <td>187</td>\n",
              "      <td>0</td>\n",
              "      <td>3.5</td>\n",
              "      <td>0</td>\n",
              "      <td>0</td>\n",
              "      <td>2</td>\n",
              "      <td>1</td>\n",
              "    </tr>\n",
              "    <tr>\n",
              "      <th>2</th>\n",
              "      <td>41</td>\n",
              "      <td>0</td>\n",
              "      <td>1</td>\n",
              "      <td>130</td>\n",
              "      <td>204</td>\n",
              "      <td>0</td>\n",
              "      <td>0</td>\n",
              "      <td>172</td>\n",
              "      <td>0</td>\n",
              "      <td>1.4</td>\n",
              "      <td>2</td>\n",
              "      <td>0</td>\n",
              "      <td>2</td>\n",
              "      <td>1</td>\n",
              "    </tr>\n",
              "    <tr>\n",
              "      <th>3</th>\n",
              "      <td>56</td>\n",
              "      <td>1</td>\n",
              "      <td>1</td>\n",
              "      <td>120</td>\n",
              "      <td>236</td>\n",
              "      <td>0</td>\n",
              "      <td>1</td>\n",
              "      <td>178</td>\n",
              "      <td>0</td>\n",
              "      <td>0.8</td>\n",
              "      <td>2</td>\n",
              "      <td>0</td>\n",
              "      <td>2</td>\n",
              "      <td>1</td>\n",
              "    </tr>\n",
              "    <tr>\n",
              "      <th>4</th>\n",
              "      <td>57</td>\n",
              "      <td>0</td>\n",
              "      <td>0</td>\n",
              "      <td>120</td>\n",
              "      <td>354</td>\n",
              "      <td>0</td>\n",
              "      <td>1</td>\n",
              "      <td>163</td>\n",
              "      <td>1</td>\n",
              "      <td>0.6</td>\n",
              "      <td>2</td>\n",
              "      <td>0</td>\n",
              "      <td>2</td>\n",
              "      <td>1</td>\n",
              "    </tr>\n",
              "  </tbody>\n",
              "</table>\n",
              "</div>\n",
              "      <button class=\"colab-df-convert\" onclick=\"convertToInteractive('df-fe82fb56-ce20-4a2a-bd4a-8b0391b004ab')\"\n",
              "              title=\"Convert this dataframe to an interactive table.\"\n",
              "              style=\"display:none;\">\n",
              "        \n",
              "  <svg xmlns=\"http://www.w3.org/2000/svg\" height=\"24px\"viewBox=\"0 0 24 24\"\n",
              "       width=\"24px\">\n",
              "    <path d=\"M0 0h24v24H0V0z\" fill=\"none\"/>\n",
              "    <path d=\"M18.56 5.44l.94 2.06.94-2.06 2.06-.94-2.06-.94-.94-2.06-.94 2.06-2.06.94zm-11 1L8.5 8.5l.94-2.06 2.06-.94-2.06-.94L8.5 2.5l-.94 2.06-2.06.94zm10 10l.94 2.06.94-2.06 2.06-.94-2.06-.94-.94-2.06-.94 2.06-2.06.94z\"/><path d=\"M17.41 7.96l-1.37-1.37c-.4-.4-.92-.59-1.43-.59-.52 0-1.04.2-1.43.59L10.3 9.45l-7.72 7.72c-.78.78-.78 2.05 0 2.83L4 21.41c.39.39.9.59 1.41.59.51 0 1.02-.2 1.41-.59l7.78-7.78 2.81-2.81c.8-.78.8-2.07 0-2.86zM5.41 20L4 18.59l7.72-7.72 1.47 1.35L5.41 20z\"/>\n",
              "  </svg>\n",
              "      </button>\n",
              "      \n",
              "  <style>\n",
              "    .colab-df-container {\n",
              "      display:flex;\n",
              "      flex-wrap:wrap;\n",
              "      gap: 12px;\n",
              "    }\n",
              "\n",
              "    .colab-df-convert {\n",
              "      background-color: #E8F0FE;\n",
              "      border: none;\n",
              "      border-radius: 50%;\n",
              "      cursor: pointer;\n",
              "      display: none;\n",
              "      fill: #1967D2;\n",
              "      height: 32px;\n",
              "      padding: 0 0 0 0;\n",
              "      width: 32px;\n",
              "    }\n",
              "\n",
              "    .colab-df-convert:hover {\n",
              "      background-color: #E2EBFA;\n",
              "      box-shadow: 0px 1px 2px rgba(60, 64, 67, 0.3), 0px 1px 3px 1px rgba(60, 64, 67, 0.15);\n",
              "      fill: #174EA6;\n",
              "    }\n",
              "\n",
              "    [theme=dark] .colab-df-convert {\n",
              "      background-color: #3B4455;\n",
              "      fill: #D2E3FC;\n",
              "    }\n",
              "\n",
              "    [theme=dark] .colab-df-convert:hover {\n",
              "      background-color: #434B5C;\n",
              "      box-shadow: 0px 1px 3px 1px rgba(0, 0, 0, 0.15);\n",
              "      filter: drop-shadow(0px 1px 2px rgba(0, 0, 0, 0.3));\n",
              "      fill: #FFFFFF;\n",
              "    }\n",
              "  </style>\n",
              "\n",
              "      <script>\n",
              "        const buttonEl =\n",
              "          document.querySelector('#df-fe82fb56-ce20-4a2a-bd4a-8b0391b004ab button.colab-df-convert');\n",
              "        buttonEl.style.display =\n",
              "          google.colab.kernel.accessAllowed ? 'block' : 'none';\n",
              "\n",
              "        async function convertToInteractive(key) {\n",
              "          const element = document.querySelector('#df-fe82fb56-ce20-4a2a-bd4a-8b0391b004ab');\n",
              "          const dataTable =\n",
              "            await google.colab.kernel.invokeFunction('convertToInteractive',\n",
              "                                                     [key], {});\n",
              "          if (!dataTable) return;\n",
              "\n",
              "          const docLinkHtml = 'Like what you see? Visit the ' +\n",
              "            '<a target=\"_blank\" href=https://colab.research.google.com/notebooks/data_table.ipynb>data table notebook</a>'\n",
              "            + ' to learn more about interactive tables.';\n",
              "          element.innerHTML = '';\n",
              "          dataTable['output_type'] = 'display_data';\n",
              "          await google.colab.output.renderOutput(dataTable, element);\n",
              "          const docLink = document.createElement('div');\n",
              "          docLink.innerHTML = docLinkHtml;\n",
              "          element.appendChild(docLink);\n",
              "        }\n",
              "      </script>\n",
              "    </div>\n",
              "  </div>\n",
              "  "
            ]
          },
          "metadata": {},
          "execution_count": 241
        }
      ],
      "source": [
        "# BEGIN CODE HERE\n",
        "df = pd.read_csv(\"input.csv\")\n",
        "\n",
        "#END CODE HERE\n",
        "df.head()"
      ]
    },
    {
      "cell_type": "markdown",
      "metadata": {
        "id": "9XWwZLTRIarc"
      },
      "source": [
        "**1.2.2 Exercise:** Find the mean and std value of the *thalach* variable using **pandas**. (An example of an expected outcome is also provided)\n"
      ]
    },
    {
      "cell_type": "code",
      "execution_count": 242,
      "metadata": {
        "id": "-gylgOk8VPPt",
        "colab": {
          "base_uri": "https://localhost:8080/"
        },
        "outputId": "321227f7-f850-4aac-dcd6-fdfcd2845dfe"
      },
      "outputs": [
        {
          "output_type": "stream",
          "name": "stdout",
          "text": [
            "Average: 149.64686468646866\n",
            "STD: 22.905161114914094\n"
          ]
        }
      ],
      "source": [
        "# BEGIN CODE HERE\n",
        "mean_thalach = df['thalach'].mean()\n",
        "std_thalach = df['thalach'].std()\n",
        "#END CODE HERE\n",
        "print(\"Average: \" + str(mean_thalach))\n",
        "print(\"STD: \" + str(std_thalach))"
      ]
    },
    {
      "cell_type": "markdown",
      "metadata": {
        "id": "9QK8m9GRMNl4"
      },
      "source": [
        "**1.2.3 Exercise:** Select the rows where *thalach*>150 and only the columns age, sex, cp, chol, target using **pandas**. (An example of an expected outcome is also provided)"
      ]
    },
    {
      "cell_type": "code",
      "execution_count": 243,
      "metadata": {
        "id": "pTSX1peCVc-G",
        "colab": {
          "base_uri": "https://localhost:8080/",
          "height": 423
        },
        "outputId": "5105e37f-9464-47f7-9546-d5ca7b2a4da2"
      },
      "outputs": [
        {
          "output_type": "execute_result",
          "data": {
            "text/plain": [
              "     age  sex  cp  chol  target\n",
              "1     37    1   2   250       1\n",
              "2     41    0   1   204       1\n",
              "3     56    1   1   236       1\n",
              "4     57    0   0   354       1\n",
              "6     56    0   1   294       1\n",
              "..   ...  ...  ..   ...     ...\n",
              "283   40    1   0   223       0\n",
              "286   59    1   3   204       0\n",
              "287   57    1   1   232       0\n",
              "290   61    1   0   203       0\n",
              "302   57    0   1   236       0\n",
              "\n",
              "[164 rows x 5 columns]"
            ],
            "text/html": [
              "\n",
              "  <div id=\"df-a17fabae-fbcc-4c92-b1eb-83a849d4a169\">\n",
              "    <div class=\"colab-df-container\">\n",
              "      <div>\n",
              "<style scoped>\n",
              "    .dataframe tbody tr th:only-of-type {\n",
              "        vertical-align: middle;\n",
              "    }\n",
              "\n",
              "    .dataframe tbody tr th {\n",
              "        vertical-align: top;\n",
              "    }\n",
              "\n",
              "    .dataframe thead th {\n",
              "        text-align: right;\n",
              "    }\n",
              "</style>\n",
              "<table border=\"1\" class=\"dataframe\">\n",
              "  <thead>\n",
              "    <tr style=\"text-align: right;\">\n",
              "      <th></th>\n",
              "      <th>age</th>\n",
              "      <th>sex</th>\n",
              "      <th>cp</th>\n",
              "      <th>chol</th>\n",
              "      <th>target</th>\n",
              "    </tr>\n",
              "  </thead>\n",
              "  <tbody>\n",
              "    <tr>\n",
              "      <th>1</th>\n",
              "      <td>37</td>\n",
              "      <td>1</td>\n",
              "      <td>2</td>\n",
              "      <td>250</td>\n",
              "      <td>1</td>\n",
              "    </tr>\n",
              "    <tr>\n",
              "      <th>2</th>\n",
              "      <td>41</td>\n",
              "      <td>0</td>\n",
              "      <td>1</td>\n",
              "      <td>204</td>\n",
              "      <td>1</td>\n",
              "    </tr>\n",
              "    <tr>\n",
              "      <th>3</th>\n",
              "      <td>56</td>\n",
              "      <td>1</td>\n",
              "      <td>1</td>\n",
              "      <td>236</td>\n",
              "      <td>1</td>\n",
              "    </tr>\n",
              "    <tr>\n",
              "      <th>4</th>\n",
              "      <td>57</td>\n",
              "      <td>0</td>\n",
              "      <td>0</td>\n",
              "      <td>354</td>\n",
              "      <td>1</td>\n",
              "    </tr>\n",
              "    <tr>\n",
              "      <th>6</th>\n",
              "      <td>56</td>\n",
              "      <td>0</td>\n",
              "      <td>1</td>\n",
              "      <td>294</td>\n",
              "      <td>1</td>\n",
              "    </tr>\n",
              "    <tr>\n",
              "      <th>...</th>\n",
              "      <td>...</td>\n",
              "      <td>...</td>\n",
              "      <td>...</td>\n",
              "      <td>...</td>\n",
              "      <td>...</td>\n",
              "    </tr>\n",
              "    <tr>\n",
              "      <th>283</th>\n",
              "      <td>40</td>\n",
              "      <td>1</td>\n",
              "      <td>0</td>\n",
              "      <td>223</td>\n",
              "      <td>0</td>\n",
              "    </tr>\n",
              "    <tr>\n",
              "      <th>286</th>\n",
              "      <td>59</td>\n",
              "      <td>1</td>\n",
              "      <td>3</td>\n",
              "      <td>204</td>\n",
              "      <td>0</td>\n",
              "    </tr>\n",
              "    <tr>\n",
              "      <th>287</th>\n",
              "      <td>57</td>\n",
              "      <td>1</td>\n",
              "      <td>1</td>\n",
              "      <td>232</td>\n",
              "      <td>0</td>\n",
              "    </tr>\n",
              "    <tr>\n",
              "      <th>290</th>\n",
              "      <td>61</td>\n",
              "      <td>1</td>\n",
              "      <td>0</td>\n",
              "      <td>203</td>\n",
              "      <td>0</td>\n",
              "    </tr>\n",
              "    <tr>\n",
              "      <th>302</th>\n",
              "      <td>57</td>\n",
              "      <td>0</td>\n",
              "      <td>1</td>\n",
              "      <td>236</td>\n",
              "      <td>0</td>\n",
              "    </tr>\n",
              "  </tbody>\n",
              "</table>\n",
              "<p>164 rows × 5 columns</p>\n",
              "</div>\n",
              "      <button class=\"colab-df-convert\" onclick=\"convertToInteractive('df-a17fabae-fbcc-4c92-b1eb-83a849d4a169')\"\n",
              "              title=\"Convert this dataframe to an interactive table.\"\n",
              "              style=\"display:none;\">\n",
              "        \n",
              "  <svg xmlns=\"http://www.w3.org/2000/svg\" height=\"24px\"viewBox=\"0 0 24 24\"\n",
              "       width=\"24px\">\n",
              "    <path d=\"M0 0h24v24H0V0z\" fill=\"none\"/>\n",
              "    <path d=\"M18.56 5.44l.94 2.06.94-2.06 2.06-.94-2.06-.94-.94-2.06-.94 2.06-2.06.94zm-11 1L8.5 8.5l.94-2.06 2.06-.94-2.06-.94L8.5 2.5l-.94 2.06-2.06.94zm10 10l.94 2.06.94-2.06 2.06-.94-2.06-.94-.94-2.06-.94 2.06-2.06.94z\"/><path d=\"M17.41 7.96l-1.37-1.37c-.4-.4-.92-.59-1.43-.59-.52 0-1.04.2-1.43.59L10.3 9.45l-7.72 7.72c-.78.78-.78 2.05 0 2.83L4 21.41c.39.39.9.59 1.41.59.51 0 1.02-.2 1.41-.59l7.78-7.78 2.81-2.81c.8-.78.8-2.07 0-2.86zM5.41 20L4 18.59l7.72-7.72 1.47 1.35L5.41 20z\"/>\n",
              "  </svg>\n",
              "      </button>\n",
              "      \n",
              "  <style>\n",
              "    .colab-df-container {\n",
              "      display:flex;\n",
              "      flex-wrap:wrap;\n",
              "      gap: 12px;\n",
              "    }\n",
              "\n",
              "    .colab-df-convert {\n",
              "      background-color: #E8F0FE;\n",
              "      border: none;\n",
              "      border-radius: 50%;\n",
              "      cursor: pointer;\n",
              "      display: none;\n",
              "      fill: #1967D2;\n",
              "      height: 32px;\n",
              "      padding: 0 0 0 0;\n",
              "      width: 32px;\n",
              "    }\n",
              "\n",
              "    .colab-df-convert:hover {\n",
              "      background-color: #E2EBFA;\n",
              "      box-shadow: 0px 1px 2px rgba(60, 64, 67, 0.3), 0px 1px 3px 1px rgba(60, 64, 67, 0.15);\n",
              "      fill: #174EA6;\n",
              "    }\n",
              "\n",
              "    [theme=dark] .colab-df-convert {\n",
              "      background-color: #3B4455;\n",
              "      fill: #D2E3FC;\n",
              "    }\n",
              "\n",
              "    [theme=dark] .colab-df-convert:hover {\n",
              "      background-color: #434B5C;\n",
              "      box-shadow: 0px 1px 3px 1px rgba(0, 0, 0, 0.15);\n",
              "      filter: drop-shadow(0px 1px 2px rgba(0, 0, 0, 0.3));\n",
              "      fill: #FFFFFF;\n",
              "    }\n",
              "  </style>\n",
              "\n",
              "      <script>\n",
              "        const buttonEl =\n",
              "          document.querySelector('#df-a17fabae-fbcc-4c92-b1eb-83a849d4a169 button.colab-df-convert');\n",
              "        buttonEl.style.display =\n",
              "          google.colab.kernel.accessAllowed ? 'block' : 'none';\n",
              "\n",
              "        async function convertToInteractive(key) {\n",
              "          const element = document.querySelector('#df-a17fabae-fbcc-4c92-b1eb-83a849d4a169');\n",
              "          const dataTable =\n",
              "            await google.colab.kernel.invokeFunction('convertToInteractive',\n",
              "                                                     [key], {});\n",
              "          if (!dataTable) return;\n",
              "\n",
              "          const docLinkHtml = 'Like what you see? Visit the ' +\n",
              "            '<a target=\"_blank\" href=https://colab.research.google.com/notebooks/data_table.ipynb>data table notebook</a>'\n",
              "            + ' to learn more about interactive tables.';\n",
              "          element.innerHTML = '';\n",
              "          dataTable['output_type'] = 'display_data';\n",
              "          await google.colab.output.renderOutput(dataTable, element);\n",
              "          const docLink = document.createElement('div');\n",
              "          docLink.innerHTML = docLinkHtml;\n",
              "          element.appendChild(docLink);\n",
              "        }\n",
              "      </script>\n",
              "    </div>\n",
              "  </div>\n",
              "  "
            ]
          },
          "metadata": {},
          "execution_count": 243
        }
      ],
      "source": [
        "# BEGIN CODE HERE\n",
        "selected_columns = ['age', 'sex', 'cp', 'chol', 'target']\n",
        "selected = df.loc[df['thalach'] > 150, selected_columns]\n",
        "#END CODE HERE\n",
        "selected"
      ]
    },
    {
      "cell_type": "markdown",
      "metadata": {
        "id": "d_8E3vdsSe_h"
      },
      "source": [
        "## 2.0 Linear Models ##\n",
        "\n",
        "In this part of the excersice you are going to build a logistic regression model from scratch."
      ]
    },
    {
      "cell_type": "markdown",
      "metadata": {
        "id": "sJMbzOu6QGqL"
      },
      "source": [
        "**2.1 Exercise:** Implement and test the sigmoid function using numpy. (An example of an expected outcome is also provided)\n",
        "\n",
        "sigmoid function:\n",
        "$$\\sigma(t)= \\dfrac{1}{1 + exp(-t)}$$"
      ]
    },
    {
      "cell_type": "code",
      "execution_count": 244,
      "metadata": {
        "id": "iQ5TRRkKWYQQ",
        "colab": {
          "base_uri": "https://localhost:8080/"
        },
        "outputId": "07e1b89b-ecfd-4c54-b708-1cefe6914d97"
      },
      "outputs": [
        {
          "output_type": "stream",
          "name": "stdout",
          "text": [
            "[0.99908895 0.73105858 0.99987661]\n"
          ]
        }
      ],
      "source": [
        "from numpy import exp\n",
        "def sigmoid(t):\n",
        "    \"\"\"\n",
        "    Compute the sigmoid of t\n",
        "    Arguments:\n",
        "    t -- A numpy array of any size\n",
        "\n",
        "    Return:\n",
        "    s -- sigmoid(t)\n",
        "    \"\"\"\n",
        "    # BEGIN CODE HERE\n",
        "    return 1/(1 + np.exp(-t)) #straight to return\n",
        "    #END CODE HERE\n",
        "\n",
        "x = np.array([7, 1, 9])\n",
        "# BEGIN CODE HERE\n",
        "# Call the function given the variable x and print it\n",
        "sigmoid_result = sigmoid(x)\n",
        "print(sigmoid_result)\n",
        "#END CODE HERE"
      ]
    },
    {
      "cell_type": "markdown",
      "metadata": {
        "id": "KFYp1zjbRt9p"
      },
      "source": [
        "**2.2 Exercise**: Implement parameter initialization in the cell below. You have to initialize w (weight vector) and b (bias) with zeros. Then, run the function using the **dim** variable. *(An example of an expected outcome is also provided)*"
      ]
    },
    {
      "cell_type": "code",
      "execution_count": 245,
      "metadata": {
        "id": "xLpXRYx5WgxZ",
        "colab": {
          "base_uri": "https://localhost:8080/"
        },
        "outputId": "e49c71cc-8366-483b-db32-74f2644679f6"
      },
      "outputs": [
        {
          "output_type": "stream",
          "name": "stdout",
          "text": [
            "w = [0. 0. 0. 0. 0. 0. 0.]\n",
            "b = 0.0\n"
          ]
        }
      ],
      "source": [
        "def initialize(dim):\n",
        "    \"\"\"  \n",
        "    Argument:\n",
        "    dim -- the number of parameters\n",
        "\n",
        "    Returns:\n",
        "    w -- initialized vector of shape (1, dim)\n",
        "    b -- initialized bias weight\n",
        "    \"\"\"\n",
        "    # BEGIN CODE HERE\n",
        "    w = np.zeros(dim)\n",
        "    b = float(0)\n",
        "    return w, b\n",
        "    #END CODE HERE\n",
        "dim = 7\n",
        "# BEGIN CODE HERE\n",
        "w, b = initialize(dim)\n",
        "#END CODE HERE\n",
        "print (\"w = \" + str(w))\n",
        "print (\"b = \" + str(b))"
      ]
    },
    {
      "cell_type": "markdown",
      "metadata": {
        "id": "aUOVogDFZZ3f"
      },
      "source": [
        "**2.3 Exercise**: Compute the cost of logistic regression using the sigmoid function above. You can find the dot product of two arrays by using the [np.dot()](https://docs.scipy.org/doc/numpy/reference/generated/numpy.dot.html). Check slide 39 (41). (Tip 1: you should append b (weight of bias) in front of w array, Tip 2: Pay attention to 'ML Course - Linear Models' covered in class to see how to combine $x_0$ with the other variables of $X$. Tip 3: You may use np.array, np.c_, np.dot, np.log, np.sum). Finally, run the function and check the results. *(An example of an expected outcome is also provided)*"
      ]
    },
    {
      "cell_type": "code",
      "execution_count": 246,
      "metadata": {
        "id": "BxX2b8KzXGvv",
        "colab": {
          "base_uri": "https://localhost:8080/"
        },
        "outputId": "184112a3-60b9-45a4-e0fc-18446190c332"
      },
      "outputs": [
        {
          "output_type": "stream",
          "name": "stdout",
          "text": [
            "Sigmoid: [0.9998766054240137, 0.999983298578152, 0.9781187290638694]\n",
            "Cost: 6.674088106737919\n"
          ]
        }
      ],
      "source": [
        "def compute_cost(w,b,X,Y):\n",
        "    \"\"\"\n",
        "    Arguments:\n",
        "    w -- weights\n",
        "    b -- bias\n",
        "    X -- input data\n",
        "    Y -- target or label vector\n",
        "\n",
        "    Return:\n",
        "    sigma -- the sigmoid of the z\n",
        "    cost -- cost for logistic regression\n",
        "    \"\"\"\n",
        "    # BEGIN CODE HERE\n",
        "    from math import log\n",
        "\n",
        "\n",
        "    #According to the Tips given above\n",
        "    bw = np.insert(w, 0, [b]) \n",
        "    X= np.insert(X, 0, np.ones(len(X[:])), axis=1) \n",
        "\n",
        "    sigma = sigmoid(np.dot(X, bw))\n",
        "\n",
        "\n",
        "\n",
        "  \n",
        "\n",
        "    #Cost function\n",
        "    cost = (-1/len(Y)) * np.sum(Y*np.log(sigma) + (1-Y)*np.log(1-sigma))\n",
        "    \n",
        "    return  sigma, cost\n",
        "\n",
        "    #END CODE HERE\n",
        "\n",
        "w, b, X, Y = np.array([0.,1.]), 7., np.array([[0.,2.],[3.,4.],[-8.,-3.2]]), np.array([0,0,1])\n",
        "# BEGIN CODE HERE\n",
        "sigma, cost = compute_cost(w,b,X,Y)\n",
        "#END CODE HERE\n",
        "print(\"Sigmoid:\",[i for i in sigma])\n",
        "print(\"Cost:\", str(cost))"
      ]
    },
    {
      "cell_type": "markdown",
      "metadata": {
        "id": "j15xZTmQdX1e"
      },
      "source": [
        "**2.4 Exercise** Compute the gradient of w and b. Compute grad as in slide 40 (Compute X and bw like above). Then. run the function with the provided example. *(An example of an expected outcome is also provided)*"
      ]
    },
    {
      "cell_type": "code",
      "execution_count": 247,
      "metadata": {
        "id": "Wn6_4LVgXh76",
        "colab": {
          "base_uri": "https://localhost:8080/"
        },
        "outputId": "ed3d32e0-1ed6-4c4c-f20b-a5211da9707a"
      },
      "outputs": [
        {
          "output_type": "stream",
          "name": "stdout",
          "text": [
            "dw = [[1.05833335 2.02323549]]\n",
            "db = 0.6593262110220117\n"
          ]
        }
      ],
      "source": [
        "def gradient(w, b, X, Y):\n",
        "    \"\"\"\n",
        "    Arguments:\n",
        "    w -- weights\n",
        "    b -- bias\n",
        "    X -- input data\n",
        "    Y -- target or label vector\n",
        "\n",
        "    Return:\n",
        "    dw -- gradient of the loss with respect to w (numpy array) \n",
        "    db -- gradient of the loss with respect to b (scalar)\n",
        "    \"\"\"\n",
        "    # BEGIN CODE HERE\n",
        "\n",
        "    #As above\n",
        "    bw = np.insert(w, 0, [b]) \n",
        "    X= np.insert(X, 0, np.ones(len(X[:])), axis=1) \n",
        "    m= len(Y)\n",
        "    sigma = sigmoid(np.dot(X, bw))\n",
        "\n",
        "    \n",
        "\n",
        "    #Gradient of the loss with respect to each variable\n",
        "\n",
        "    #according to the (2.11) equation in the course's book\n",
        "    grad = 1 / m *np.dot(X.transpose(), (sigma - Y))\n",
        "\n",
        "    dw = grad[1:].reshape(1, -1) #excluding the bias\n",
        "    db = grad[0] #excracting only the bias\n",
        "\n",
        "\n",
        "    return dw, db\n",
        "    #END CODE HERE\n",
        "\n",
        "w, b, X, Y = np.array([0.,1.]), 7., np.array([[0.,2.],[3.,4.],[-8.,-3.2]]), np.array([0,0,1])\n",
        "# BEGIN CODE HERE\n",
        "dw, db = gradient(w, b, X, Y)\n",
        "#END CODE HERE\n",
        "print (\"dw = \" + str(dw))\n",
        "print (\"db = \" + str(db))"
      ]
    },
    {
      "cell_type": "markdown",
      "metadata": {
        "id": "kFEC6UNrpFie"
      },
      "source": [
        "**2.5 Exercise** Implement the parameters update function below. The goal is to learn $w$ and $b$ by minimizing the cost function $J$. For a parameter $\\theta$, the update rule is $ \\theta = \\theta - \\alpha \\text{ } d\\theta$, where $\\alpha$ is the learning rate. Tip: Use the functions developed above. Then, run the function on the provided example and check the results. *(An example of an expected outcome is also provided)*"
      ]
    },
    {
      "cell_type": "code",
      "execution_count": 248,
      "metadata": {
        "id": "FsORMiuRX958",
        "colab": {
          "base_uri": "https://localhost:8080/"
        },
        "outputId": "0c18753e-1c8d-4896-e589-5879f7f5867d"
      },
      "outputs": [
        {
          "output_type": "stream",
          "name": "stdout",
          "text": [
            "Cost after iteration 0: 6.674088\n",
            "w = [[-0.86920683 -0.75367241]]\n",
            "b = 6.406606410080212\n",
            "dw = [[0.70409351 1.60069352]]\n",
            "db = 0.6593262110220117\n"
          ]
        }
      ],
      "source": [
        "def update_parameters(w, b, X, Y, num_iterations, learning_rate):\n",
        "    \"\"\"\n",
        "    This function optimizes w and b by running a gradient descent algorithm\n",
        "\n",
        "      Arguments:\n",
        "      w -- weights\n",
        "      b -- bias\n",
        "      X -- input data\n",
        "      Y -- target or label vector\n",
        "      num_iterations -- number of iterations of the optimization loop\n",
        "      learning_rate -- learning rate of the gradient descent update rule\n",
        "\n",
        "      Returns:\n",
        "      params -- dictionary containing the weights w and bias b\n",
        "      grads -- dictionary containing the gradients of the weights and bias with respect to the cost function.\n",
        "    \"\"\"\n",
        "    for i in range(num_iterations):\n",
        "        w_previous = w\n",
        "        b_previous = b\n",
        "        # BEGIN CODE HERE\n",
        "        # ...\n",
        "        # Cost and gradient calculation\n",
        "        sigma, cost = compute_cost(w, b, X, Y) \n",
        "        dw, dp = gradient(w, b, X, Y)\n",
        "        # Update rule\n",
        "        w = w_previous - learning_rate * dw\n",
        "        b = b_previous - learning_rate * db\n",
        "        # END CODE HERE\n",
        "\n",
        "        # Print the cost every 100 training iterations\n",
        "        if i % 100 == 0:\n",
        "            print (\"Cost after iteration %i: %f\" %(i, cost)) \n",
        "\n",
        "    return w, b, dw, db\n",
        "\n",
        "w, b, X, Y = np.array([0.,1.]), 7., np.array([[0.,2.],[3.,4.],[-8.,-3.2]]), np.array([0,0,1])\n",
        "num_iterations= 100\n",
        "learning_rate = 0.009\n",
        "\n",
        "# BEGIN CODE HERE\n",
        "w, b, dw, db = update_parameters(w, b, X, Y, num_iterations, learning_rate)\n",
        "# END CODE HERE\n",
        "print (\"w = \" + str(w))\n",
        "print (\"b = \" + str(b))\n",
        "print (\"dw = \" + str(dw))\n",
        "print (\"db = \" + str(db))"
      ]
    },
    {
      "cell_type": "markdown",
      "metadata": {
        "id": "3bnW_pZtuYc2"
      },
      "source": [
        "**2.6 Predict** Implement the predict() function by calculating the $y'$ and then convert the probabilities to actual predictions 0 or 1. Finally, run the function with the provided example. *(An example of an expected outcome is also provided)*"
      ]
    },
    {
      "cell_type": "code",
      "execution_count": 249,
      "metadata": {
        "id": "q2P-3OBaxBLT",
        "colab": {
          "base_uri": "https://localhost:8080/"
        },
        "outputId": "bbc66f80-3707-4906-e09e-95973f9ac6de"
      },
      "outputs": [
        {
          "output_type": "stream",
          "name": "stdout",
          "text": [
            "predictions = [1. 1. 0.]\n"
          ]
        }
      ],
      "source": [
        "def predict(w, b, X):\n",
        "    '''\n",
        "    Predict whether the label is 0 or 1 using learned logistic regression parameters (w, b)\n",
        "    \n",
        "    Arguments:\n",
        "    w -- weights\n",
        "    b -- bias, a scalar\n",
        "    X -- input data\n",
        "    \n",
        "    Returns:\n",
        "    Y_prediction -- a numpy array (vector) containing all predictions (0/1) for the examples in X\n",
        "    '''\n",
        "\n",
        "    # BEGIN CODE HERE\n",
        "    bw = np.insert(w, 0, [b]) \n",
        "    X= np.insert(X, 0, np.ones(len(X[:])), axis=1) \n",
        " \n",
        "\n",
        "    #sigmoid inside cost function \n",
        "    z =np.array(np.dot(X, bw)) \n",
        "    sigma = sigmoid(z)\n",
        "\n",
        "    Y_Prediction = np.zeros(len(sigma))\n",
        "\n",
        "    for i in range(len(sigma)):\n",
        "      if sigma[i] >= 0.5:\n",
        "        Y_Prediction[i] = 1\n",
        "\n",
        "    return Y_Prediction\n",
        "    # END CODE HERE\n",
        "\n",
        "w = np.array([0.1124579,0.23106775])\n",
        "b = 0.2\n",
        "X = np.array([[0.,0.2],[-2.1,1.],[-2.2,-1.1]])\n",
        "#prediction = predict(w, b, X)\n",
        "# BEGIN CODE HERE\n",
        "prediction = predict(w, b, X)\n",
        "# END CODE HERE\n",
        "print(\"predictions = \" + str(prediction))"
      ]
    },
    {
      "cell_type": "markdown",
      "metadata": {
        "id": "LSEzK5Cc0E3X"
      },
      "source": [
        "**2.7 Exercise** Put all the above blocks in the right order to create a model in the function below."
      ]
    },
    {
      "cell_type": "code",
      "execution_count": 250,
      "metadata": {
        "id": "S2uiXZk0aAV2"
      },
      "outputs": [],
      "source": [
        "def model(X_train, Y_train, X_test, Y_test, num_iterations = 2000, learning_rate = 0.5):\n",
        "    \"\"\"\n",
        "    Builds the logistic regression model by calling the function you've implemented previously\n",
        "\n",
        "    Arguments:\n",
        "    X_train -- training set represented by a numpy array\n",
        "    Y_train -- training labels represented by a numpy array (vector) of shape (1, m_train)\n",
        "    X_test -- test set represented by a numpy array of shape\n",
        "    Y_test -- test labels represented by a numpy array (vector) of shape (1, m_test)\n",
        "    num_iterations -- hyperparameter representing the number of iterations to optimize the parameters\n",
        "    learning_rate -- hyperparameter representing the learning rate used in the update rule of update_parameters()\n",
        "\n",
        "    Returns:\n",
        "    d -- dictionary containing information about the model.\n",
        "    \"\"\"\n",
        "\n",
        "    # BEGIN CODE HERE\n",
        "\n",
        "    # initialize parameters\n",
        "    w, b = initialize(len(X_train[0]))\n",
        "\n",
        "    # Gradient descent\n",
        "    w, b, dw, db = update_parameters(w, b, X_train, Y_train, num_iterations, learning_rate)\n",
        "    \n",
        "    # Predict test/train set examples\n",
        "    y_pred_test = predict(w, b, X_test)\n",
        "    y_pred_train = predict(w, b, X_train)\n",
        "\n",
        "    #END CODE HERE\n",
        "\n",
        "\n",
        "    # Print train/test Errors\n",
        "    print(\"train accuracy: {} %\".format(100 - np.mean(np.abs(y_pred_train - y_train)) * 100))\n",
        "    print(\"test accuracy: {} %\".format(100 - np.mean(np.abs(y_pred_test - y_test)) * 100))\n",
        "\n",
        "\n",
        "    d = {\"Y_prediction_test\": y_pred_test, \n",
        "        \"Y_prediction_train\" : y_pred_train, \n",
        "        \"w\" : w, \n",
        "        \"b\" : b,\n",
        "        \"learning_rate\" : learning_rate,\n",
        "        \"num_iterations\": num_iterations}\n",
        "\n",
        "    return d\n"
      ]
    },
    {
      "cell_type": "markdown",
      "metadata": {
        "id": "eSv1oc0IgJUd"
      },
      "source": [
        "**2.8 Exercise** Using the **df** from above assign to the **X** variable the values of the columns 'oldpeak' and 'thalach', and in the **y** variable the column 'target'. *(An example of an expected outcome (the plot) is also provided)*"
      ]
    },
    {
      "cell_type": "code",
      "execution_count": 251,
      "metadata": {
        "id": "NDzIkc6v1Uf8",
        "colab": {
          "base_uri": "https://localhost:8080/",
          "height": 694
        },
        "outputId": "c06c5a32-831f-4a57-c48c-9d1280970de7"
      },
      "outputs": [
        {
          "output_type": "execute_result",
          "data": {
            "text/plain": [
              "<matplotlib.collections.PathCollection at 0x7faa0d7c5280>"
            ]
          },
          "metadata": {},
          "execution_count": 251
        },
        {
          "output_type": "display_data",
          "data": {
            "text/plain": [
              "<Figure size 800x800 with 1 Axes>"
            ],
            "image/png": "[encoded data removed]"
          },
          "metadata": {}
        }
      ],
      "source": [
        "import matplotlib.pyplot as plt\n",
        "\n",
        "# BEGIN CODE HERE\n",
        "\n",
        "X = df[['oldpeak', 'thalach']].values\n",
        "y = df['target']\n",
        "#END CODE HERE\n",
        "\n",
        "plt.figure(figsize=(8,8))\n",
        "colors = ['blue' if i == 0 else 'red' for i in y]\n",
        "plt.scatter(X[:, 0], \n",
        "            X[:, 1],\n",
        "            alpha = .4, color=colors)"
      ]
    },
    {
      "cell_type": "markdown",
      "metadata": {
        "id": "N6gklYbei7Te"
      },
      "source": [
        "**2.9 Exercise** Split your dataset into train and test set and then use the model function to evaluate your model. Be careful to include both classes in train and test set. Finally, make a plot containing the samples and the line the model has learned. Use train_test_split from sklearn to split X and y to train and test sets of 50% and 50%, respectively. You should also use the shuffle parameter. [Train-test-split Documentation.](https://scikit-learn.org/stable/modules/generated/sklearn.model_selection.train_test_split.html#sklearn.model_selection.train_test_split) *(An example of an expected outcome is also provided)*"
      ]
    },
    {
      "cell_type": "code",
      "execution_count": 252,
      "metadata": {
        "id": "0e0BE1vJaEiM",
        "colab": {
          "base_uri": "https://localhost:8080/",
          "height": 930
        },
        "outputId": "33d0cce5-f3a1-4bfe-f814-1e5b46a289f8"
      },
      "outputs": [
        {
          "output_type": "stream",
          "name": "stdout",
          "text": [
            "Cost after iteration 0: 0.693147\n",
            "Cost after iteration 100: 0.691972\n",
            "Cost after iteration 200: 0.691122\n",
            "Cost after iteration 300: 0.690276\n",
            "Cost after iteration 400: 0.689436\n",
            "Cost after iteration 500: 0.688602\n",
            "Cost after iteration 600: 0.687773\n",
            "Cost after iteration 700: 0.686949\n",
            "Cost after iteration 800: 0.686130\n",
            "Cost after iteration 900: 0.685317\n",
            "train accuracy: 64.23841059602648 %\n",
            "test accuracy: 73.02631578947368 %\n",
            "-0.025361876071874016\n"
          ]
        },
        {
          "output_type": "execute_result",
          "data": {
            "text/plain": [
              "[<matplotlib.lines.Line2D at 0x7faa0d7f8e50>]"
            ]
          },
          "metadata": {},
          "execution_count": 252
        },
        {
          "output_type": "display_data",
          "data": {
            "text/plain": [
              "<Figure size 800x800 with 1 Axes>"
            ],
            "image/png": "[encoded data removed]"
          },
          "metadata": {}
        }
      ],
      "source": [
        "# BEGIN CODE HERE\n",
        "from sklearn.model_selection import train_test_split\n",
        "X_train, X_test, y_train, y_test =  train_test_split(X, y, test_size=0.5, shuffle=True, random_state=77)\n",
        "#END CODE HERE\n",
        "\n",
        "d = model(X_train,y_train,X_test,y_test,num_iterations = 1000, learning_rate = 0.0001)\n",
        "\n",
        "# Plot again\n",
        "plt.figure(figsize=(8,8))\n",
        "colors = ['blue' if i == 0 else 'red' for i in y_train]\n",
        "plt.scatter(X_train[:, 0], X_train[:, 1], alpha = .4, color=colors)\n",
        "\n",
        "x_boundary = np.linspace(0, 4, 1000) # Return evenly spaced numbers over a specified interval.\n",
        "weights =  d['w'][0]\n",
        "print(weights[0])\n",
        "# BEGIN CODE HERE\n",
        "#solving for x2 the weights[0]*x1 + weights[1]*x2 + b = 0 \n",
        "y_boundary = -(weights[0]/weights[1])*x_boundary - d['b']/weights[1]\n",
        "#END CODE HERE\n",
        "\n",
        "plt.plot(x_boundary, y_boundary, color='black')"
      ]
    },
    {
      "cell_type": "markdown",
      "metadata": {
        "id": "RDlwjY4P2QXD"
      },
      "source": [
        "**2.10 Bonus Exercise:** This exercise is optional, but if you implement it you will receive a bonus. Moreover, it will make the following exercise much easier (+ it will help you in the future in general). Let's create a class containing all the neccessary functions to train a Logistic Regression model and make predictions.\n",
        "\n",
        "**self** represents the instance of the class. By using the **self** keyword we can access the attributes (public variables) and methods (functions) of the class in python [Source](https://www.geeksforgeeks.org/self-in-python-class/). It binds the attributes with the given arguments of an instance. Therefore, for the class MyLogisticRegression, we can create an instance of this class:\n",
        "\n",
        "```\n",
        "lr = MyLogisticRegression(...)\n",
        "```\n",
        "And we can use its public variables and methods\n",
        "```\n",
        "lr.num_iterations = 2000\n",
        "print(lr.num_iterations) #Will print the public variable\n",
        "```\n",
        "Hint: Inside the class, any shared public variable x should be accessed through 'self.x'.\n",
        "```\n",
        "def inner_function (self, y):\n",
        "  print(self.x, y)\n",
        "```"
      ]
    },
    {
      "cell_type": "code",
      "execution_count": 253,
      "metadata": {
        "id": "esOzs2-KeUCx"
      },
      "outputs": [],
      "source": [
        "from numpy import exp\n",
        "from numpy import log\n",
        "\n",
        "class MyLogisticRegression:\n",
        "    def __init__(self, num_iterations=2000, learning_rate=0.004):\n",
        "      self.w = None\n",
        "      self.b = None\n",
        "      self.num_iterations = num_iterations\n",
        "      self.learning_rate = learning_rate\n",
        "\n",
        "\n",
        "    def _sigmoid(self, t):\n",
        "        #The sigmoid function working as the hypothesis function\n",
        "        return 1 / (1 + np.exp(-t))\n",
        "\n",
        "    def _initialize(self, dim):\n",
        "        #where we initialize the features' weights and the bias\n",
        "        self.w = np.zeros(dim)\n",
        "        self.b = float(0)\n",
        "\n",
        "    def _compute_cost(self, X, Y):\n",
        "        #where we compute  the cost\n",
        "        #of logistic regression using the sigmoid function\n",
        "\n",
        "        bw = np.insert(self.w, 0, [self.b]) \n",
        "        X = np.insert(X, 0, np.ones(len(X[:])), axis=1) \n",
        "\n",
        "        sigma = self._sigmoid(np.dot(X, bw))\n",
        "\n",
        "        #Cost function\n",
        "        cost = (-1/len(Y)) * np.sum(Y*np.log(sigma) + (1-Y)*np.log(1-sigma))\n",
        "    \n",
        "        return sigma, cost\n",
        "\n",
        "    def _gradient(self, X, Y, sigma):\n",
        "        #where we compute the gradient of the cost function with respect to w and b\n",
        "\n",
        "        bw = np.insert(self.w ,0, [self.b]) \n",
        "        X= np.insert(X, 0, np.ones(len(X[:])), axis=1)\n",
        "        \n",
        "        grad = 1 / len(Y) * np.dot(X.transpose(), (sigma - Y))\n",
        "\n",
        "        dw = grad[1:].reshape(1, -1) #excluding the bias\n",
        "        db = grad[0]\n",
        "\n",
        "        return dw, db\n",
        "\n",
        "    def _update_parameters(self, X, Y):\n",
        "        #where we update the model's parameters at each iteration using the Gradient\n",
        "        #Descent method\n",
        "        \n",
        "        for i in range(self.num_iterations):\n",
        "            w_previous = self.w\n",
        "            b_previous = self.b\n",
        "\n",
        "            # Cost and gradient calculation\n",
        "            sigma, cost = self._compute_cost(X, Y)\n",
        "            \n",
        "            dw, db = self._gradient(X, Y, sigma)\n",
        "\n",
        "            # Update rule\n",
        "            self.w = w_previous - self.learning_rate * dw\n",
        "            self.b = b_previous - self.learning_rate * db\n",
        "            \n",
        "            # Print the cost every 100 training iterations\n",
        "            if i % 100 == 0:\n",
        "                print (\"Cost after iteration %i: %f\" %(i, cost)) \n",
        "\n",
        "        return dw, db\n",
        "\n",
        "    def predict(self, X):\n",
        "        #where we make the prediction of y being 1 or 0, \n",
        "        #according to the hypothesis function's value\n",
        "\n",
        "        bw = np.insert(self.w, 0, [self.b]) \n",
        "        X= np.insert(X, 0, np.ones(len(X[:])), axis=1) \n",
        " \n",
        "\n",
        "        #sigmoid inside cost function \n",
        "        z =np.array(np.dot(X, bw)) \n",
        "        sigma = self._sigmoid(z)\n",
        "  \n",
        "        Y_Prediction = np.zeros(len(sigma))\n",
        "\n",
        "        for i in range(len(sigma)):\n",
        "          if sigma[i] >= 0.5:\n",
        "            Y_Prediction[i] = 1\n",
        "\n",
        "        return Y_Prediction\n",
        "\n",
        "    def fit_evaluate(self, X_train, Y_train, X_test, Y_test):\n",
        "        #where we summarize the Logistic Regression Algorithm and evaluate the\n",
        "        #model based on its scores in the test set\n",
        "\n",
        "        # initialize parameters\n",
        "        self._initialize(len(X_train[0]))\n",
        "\n",
        "        # Gradient descent\n",
        "        dw, db = self._update_parameters(X_train, Y_train)\n",
        "        \n",
        "        \n",
        "        # Predict test/train set examples\n",
        "        Y_prediction_test = self.predict(X_test)\n",
        "        Y_prediction_train = self.predict(X_train)\n",
        "        #END CODE HERE\n",
        "\n",
        "        # Print train/test Errors\n",
        "        print(\"train accuracy: {} %\".format(100 - np.mean(np.abs(Y_prediction_train - Y_train)) * 100))\n",
        "        print(\"test accuracy: {} %\".format(100 - np.mean(np.abs(Y_prediction_test - Y_test)) * 100))\n",
        "\n",
        "\n",
        "        d = {\"Y_prediction_test\": Y_prediction_test, \n",
        "            \"Y_prediction_train\" : Y_prediction_train, \n",
        "            \"w\" : self.w, \n",
        "            \"b\" : self.b,\n",
        "            \"learning_rate\" : self.learning_rate,\n",
        "            \"num_iterations\": self.num_iterations}\n",
        "\n",
        "        return d\n"
      ]
    },
    {
      "cell_type": "code",
      "execution_count": 254,
      "metadata": {
        "id": "fHQgqRe5786m",
        "colab": {
          "base_uri": "https://localhost:8080/"
        },
        "outputId": "46103c0b-6ec3-4877-b2a1-89b84ef67c42"
      },
      "outputs": [
        {
          "output_type": "stream",
          "name": "stdout",
          "text": [
            "Cost after iteration 0: 0.693147\n",
            "Cost after iteration 100: 0.692155\n",
            "Cost after iteration 200: 0.691485\n",
            "Cost after iteration 300: 0.690820\n",
            "Cost after iteration 400: 0.690158\n",
            "Cost after iteration 500: 0.689501\n",
            "Cost after iteration 600: 0.688849\n",
            "Cost after iteration 700: 0.688200\n",
            "Cost after iteration 800: 0.687555\n",
            "Cost after iteration 900: 0.686915\n",
            "train accuracy: 58.27814569536424 %\n",
            "test accuracy: 71.05263157894737 %\n"
          ]
        }
      ],
      "source": [
        "linearModel = MyLogisticRegression(1000, 0.0001)\n",
        "d = linearModel.fit_evaluate(X_train, y_train, X_test, y_test)"
      ]
    },
    {
      "cell_type": "markdown",
      "metadata": {
        "id": "cL4U8X6rodey"
      },
      "source": [
        "## 3.0 Regularization ## (2 points)\n",
        "\n",
        "Rewrite any of the above functions in the below block so as the Logistic Regression to have the option to run with **L1** and **L2** regularization. Rewrite only the functions needed. (Tip: If you use the class, this excercise is much easier. You should rewrite the class, changing the constructor of the class and only one more function to implement the regularization. Then, you will be able to call those commands for the different regularization parameters)\n",
        "\n",
        "```\n",
        "linearModel = MyLogisticRegression(1000, 0.0001, 'l1')\n",
        "linearModel = MyLogisticRegression(1000, 0.0001, 'l2')\n",
        "```\n"
      ]
    },
    {
      "cell_type": "code",
      "execution_count": 255,
      "metadata": {
        "id": "oemHripT8nvE"
      },
      "outputs": [],
      "source": [
        "### BEGIN CODE HERE\n",
        "\n",
        "class MyLogisticRegressionReg:\n",
        "    def __init__(self, num_iterations=2000, learning_rate=0.004, regularization=None, l=None):\n",
        "      self.w = None\n",
        "      self.b = None\n",
        "      # BEGIN CODE HERE\n",
        "      self.num_iterations = num_iterations\n",
        "      self.learning_rate = learning_rate\n",
        "      self.regularization = regularization\n",
        "      self.l = l\n",
        "\n",
        "    def _sigmoid(self, t):\n",
        "        #The sigmoid function working as the hypothesis function\n",
        "        return 1 / (1 + np.exp(-t))\n",
        "\n",
        "    def _initialize(self, dim):\n",
        "        #where we initialize the features' weights and the bias\n",
        "        self.w = np.zeros(dim)\n",
        "        self.b = float(0)\n",
        "\n",
        "    def _compute_cost(self, X, Y):\n",
        "        #where we compute  the cost\n",
        "        #of logistic regression using the sigmoid function\n",
        "\n",
        "        bw = np.insert(self.w, 0, [self.b]) \n",
        "        X = np.insert(X, 0, np.ones(len(X[:])), axis=1) \n",
        "\n",
        "        sigma = self._sigmoid(np.dot(X, bw))\n",
        "        \n",
        "        m = len(Y)\n",
        "        R = 0\n",
        "        #Cost function\n",
        "        if self.regularization == 'l1':\n",
        "          R = self.l/m * np.sum(np.absolute(bw))\n",
        "        if self.regularization == 'l2':\n",
        "          R = self.l/(2*m) * np.sum(np.power(bw, 2))\n",
        "        \n",
        "        cost = (-1/len(Y)) * np.sum(Y*np.log(sigma) + (1-Y)*np.log(1-sigma)) + R\n",
        "    \n",
        "        return sigma, cost\n",
        "\n",
        "    def _gradient(self, X, Y, sigma):\n",
        "        #where we compute the gradient of the cost function with respect to w and b\n",
        "        bw = np.insert(self.w ,0, [self.b]) \n",
        "        X= np.insert(X, 0, np.ones(len(X[:])), axis=1)\n",
        "\n",
        "        grad = 1 / len(Y) * np.dot(X.transpose(), (sigma - Y))\n",
        "\n",
        "        m = len(Y)\n",
        "        if self.regularization == 'l1':\n",
        "            grad += (self.l / m) * np.sign(bw)\n",
        "        if self.regularization == 'l2':\n",
        "            grad += (self.l / m) * bw\n",
        "\n",
        "        dw = grad[1:].reshape(1, -1) #excluding the bias\n",
        "        db = grad[0]\n",
        "\n",
        "        return dw, db\n",
        "\n",
        "    def _update_parameters(self, X, Y):\n",
        "        #where we update the model's parameters at each iteration using the Gradient\n",
        "        #Descent method\n",
        "        \n",
        "        for i in range(self.num_iterations):\n",
        "            w_previous = self.w\n",
        "            b_previous = self.b\n",
        "\n",
        "            # Cost and gradient calculation\n",
        "            sigma, cost = self._compute_cost(X, Y)\n",
        "            \n",
        "            dw, db = self._gradient(X, Y, sigma)\n",
        "\n",
        "            # Update rule\n",
        "            self.w = w_previous - self.learning_rate * dw\n",
        "            self.b = b_previous - self.learning_rate * db\n",
        "            \n",
        "            # Print the cost every 100 training iterations\n",
        "            if i % 100 == 0:\n",
        "                print (\"Cost after iteration %i: %f\" %(i, cost)) \n",
        "\n",
        "        return dw, db\n",
        "\n",
        "    def predict(self, X):\n",
        "        #where we make the prediction of y being 1 or 0, \n",
        "        #according to the hypothesis function's value\n",
        "\n",
        "        bw = np.insert(self.w, 0, [self.b]) \n",
        "        X= np.insert(X, 0, np.ones(len(X[:])), axis=1) \n",
        " \n",
        "\n",
        "        #sigmoid inside cost function \n",
        "        z =np.array(np.dot(X, bw)) \n",
        "        sigma = self._sigmoid(z)\n",
        "  \n",
        "        Y_Prediction = np.zeros(len(sigma))\n",
        "\n",
        "        for i in range(len(sigma)):\n",
        "          if sigma[i] >= 0.5:\n",
        "            Y_Prediction[i] = 1\n",
        "\n",
        "        return Y_Prediction\n",
        "\n",
        "    def fit_evaluate(self, X_train, Y_train, X_test, Y_test):\n",
        "        #where we summarize the Logistic Regression Algorithm and evaluate the\n",
        "        #model based on its scores in the test set\n",
        "\n",
        "        # initialize parameters\n",
        "        self._initialize(len(X_train[0]))\n",
        "\n",
        "        # Gradient descent\n",
        "        dw, db = self._update_parameters(X_train, Y_train)\n",
        "        \n",
        "        \n",
        "        # Predict test/train set examples\n",
        "        Y_prediction_test = self.predict(X_test)\n",
        "        Y_prediction_train = self.predict(X_train)\n",
        "        #END CODE HERE\n",
        "\n",
        "        # Print train/test Errors\n",
        "        print(\"train accuracy: {} %\".format(100 - np.mean(np.abs(Y_prediction_train - Y_train)) * 100))\n",
        "        print(\"test accuracy: {} %\".format(100 - np.mean(np.abs(Y_prediction_test - Y_test)) * 100))\n",
        "\n",
        "\n",
        "        d = {\"Y_prediction_test\": Y_prediction_test, \n",
        "            \"Y_prediction_train\" : Y_prediction_train, \n",
        "            \"w\" : self.w, \n",
        "            \"b\" : self.b,\n",
        "            \"learning_rate\" : self.learning_rate,\n",
        "            \"num_iterations\": self.num_iterations}\n",
        "\n",
        "        return d\n",
        "\n",
        "#END CODE HERE"
      ]
    },
    {
      "cell_type": "code",
      "execution_count": 256,
      "metadata": {
        "id": "4SyI-VtVvefd",
        "colab": {
          "base_uri": "https://localhost:8080/"
        },
        "outputId": "7efb3e10-8eba-445f-add0-8f7ba2db8e7b"
      },
      "outputs": [
        {
          "output_type": "stream",
          "name": "stdout",
          "text": [
            "Cost after iteration 0: 0.693147\n",
            "Cost after iteration 100: 0.692334\n",
            "Cost after iteration 200: 0.691832\n",
            "Cost after iteration 300: 0.691334\n",
            "Cost after iteration 400: 0.690838\n",
            "Cost after iteration 500: 0.690346\n",
            "Cost after iteration 600: 0.689857\n",
            "Cost after iteration 700: 0.689370\n",
            "Cost after iteration 800: 0.688887\n",
            "Cost after iteration 900: 0.688407\n",
            "train accuracy: 53.64238410596027 %\n",
            "test accuracy: 68.42105263157895 %\n",
            "Cost after iteration 0: 0.693147\n",
            "Cost after iteration 100: 0.692155\n",
            "Cost after iteration 200: 0.691486\n",
            "Cost after iteration 300: 0.690822\n",
            "Cost after iteration 400: 0.690162\n",
            "Cost after iteration 500: 0.689507\n",
            "Cost after iteration 600: 0.688856\n",
            "Cost after iteration 700: 0.688210\n",
            "Cost after iteration 800: 0.687569\n",
            "Cost after iteration 900: 0.686932\n",
            "train accuracy: 58.27814569536424 %\n",
            "test accuracy: 71.05263157894737 %\n"
          ]
        }
      ],
      "source": [
        "#You can freely test your code here\n",
        "from sklearn.model_selection import train_test_split\n",
        "X_train, X_test, y_train, y_test =  train_test_split(X, y, test_size=0.5, shuffle=True, random_state=77)\n",
        "\n",
        "linearModel = MyLogisticRegressionReg(1000, 0.0001,\"l1\",5)\n",
        "d = linearModel.fit_evaluate(X_train, y_train, X_test, y_test)\n",
        "\n",
        "linearModel = MyLogisticRegressionReg(1000, 0.0001,\"l2\",5)\n",
        "d = linearModel.fit_evaluate(X_train, y_train, X_test, y_test)"
      ]
    },
    {
      "cell_type": "markdown",
      "metadata": {
        "id": "5UsPoeQ8VpmV"
      },
      "source": [
        "## **Questions** ## (1 point)\n",
        "\n",
        "Answer below!\n",
        "1. What is the purpose of splitting the data into training and testing sets? [0.1]\n",
        "2. What is the role of the intercept in linear regression? Why is it important? [0.1]\n",
        "3. Your model should achieve around 70% accuracy in the test set. If you want to improve the accuracy what changes you should make? Report the changes and the results. [0.2]\n",
        "4. Besides using a specific number of iterations for your model what else you can do to stop the training? [0.2]\n",
        "5. Do you notice any differences when using the L1 or L2 regularization? Is so, why? If not, why? (Answer based on what you've learned in class) [0.2]\n",
        "6. What are some common applications of linear models in real-world scenarios? How do these models compare to other machine learning algorithms in terms of performance, and interpretability? [0.2]\n",
        "\n",
        "Bonus Question:\n",
        "*What parts of this assignment were not clear or misleading? Are there any other comments on this assignment?* "
      ]
    },
    {
      "cell_type": "code",
      "source": [],
      "metadata": {
        "id": "_R0o22_tc4kp"
      },
      "execution_count": 256,
      "outputs": []
    },
    {
      "cell_type": "markdown",
      "source": [
        "Answers:\n",
        "\n",
        "1. The main purpose of splitting the data into *training* and *testing* sets is to leave aside the testing set, do the whole learning process using the training set trying not to overfit and then, after completing the training, we come back and run an experiment on the testing set, which is a utterly new dataset to our model, becoming able to check its accuracy and effectiveness without worrying of prejudgment, to some extent at least. We can also split the initial data set into a third part, a validation set, which will be inserted before the testing set as an intermediate, in order to check the overfitting and the perfomance of the model before touching the testing set.\n",
        "\n",
        "2. The intercept is represented by the symbol \"b0\" in the linear regression equation: y = b0 + b1x1 + b2x2 + ... + bn*xn\n",
        "where y is the target variable, x1, x2, ..., xn are the feature variables, and b0, b1, b2, ..., bn are the weights. It's important in order to release the boundary or regression line from going through the origin (0, 0) which may not always be realistic for the data being analyzed. Also, if all feature variables are zero, the target variable is equal to the intercept.\n",
        "\n",
        "3. Our model for **num_iterations = 1000** and **learning_rate = 0.0001** and achieved **71.053%** accuracy in the test set, after splitting train and test sets of **50%** and **50%** of the initial dataset. In order to achieve greater accuracy, we could change the two hyperparameters **num_iterations** and **learning_rate** or **the split percentage** of the dataset. If **num_iterations** grows very large, we could drive the model into overfitting in the training set, otherwise into underfitting if we reduce it. On the other hand, if we increase the **learning_rate** dramatically, we may overshoot the optimal values of the weights and if we reduce it likewise, the algorithm may take a long time to converge or get stuck in a local minimum. Taking those facts into consideration, let's test our model for various values of the hyperparameters\n",
        "\n",
        "If we change the **learning rate**"
      ],
      "metadata": {
        "id": "8hLwUZIVJuok"
      }
    },
    {
      "cell_type": "code",
      "source": [
        "from sklearn.model_selection import train_test_split\n",
        "X_train, X_test, y_train, y_test =  train_test_split(X, y, test_size=0.5, shuffle=True, random_state=77)\n",
        "\n",
        "p = np.linspace(0.0001, 0.001, num = 10)\n",
        "for i in p:\n",
        "  print(\"learning rate = {} \\n\".format(i))\n",
        "  linearModel = MyLogisticRegression(1000, i)\n",
        "  d = linearModel.fit_evaluate(X_train, y_train, X_test, y_test)\n",
        "  print(\"\\n\")\n",
        "\n"
      ],
      "metadata": {
        "colab": {
          "base_uri": "https://localhost:8080/"
        },
        "id": "yraWtkVpUYBP",
        "outputId": "86598cd5-968f-47f4-b793-3549073913f6"
      },
      "execution_count": 257,
      "outputs": [
        {
          "output_type": "stream",
          "name": "stdout",
          "text": [
            "learning rate = 0.0001 \n",
            "\n",
            "Cost after iteration 0: 0.693147\n",
            "Cost after iteration 100: 0.692155\n",
            "Cost after iteration 200: 0.691485\n",
            "Cost after iteration 300: 0.690820\n",
            "Cost after iteration 400: 0.690158\n",
            "Cost after iteration 500: 0.689501\n",
            "Cost after iteration 600: 0.688849\n",
            "Cost after iteration 700: 0.688200\n",
            "Cost after iteration 800: 0.687555\n",
            "Cost after iteration 900: 0.686915\n",
            "train accuracy: 58.27814569536424 %\n",
            "test accuracy: 71.05263157894737 %\n",
            "\n",
            "\n",
            "learning rate = 0.00019999999999999998 \n",
            "\n",
            "Cost after iteration 0: 0.693147\n",
            "Cost after iteration 100: 0.691485\n",
            "Cost after iteration 200: 0.690158\n",
            "Cost after iteration 300: 0.688848\n",
            "Cost after iteration 400: 0.687555\n",
            "Cost after iteration 500: 0.686278\n",
            "Cost after iteration 600: 0.685017\n",
            "Cost after iteration 700: 0.683772\n",
            "Cost after iteration 800: 0.682543\n",
            "Cost after iteration 900: 0.681329\n",
            "train accuracy: 66.88741721854305 %\n",
            "test accuracy: 76.97368421052632 %\n",
            "\n",
            "\n",
            "learning rate = 0.0003 \n",
            "\n",
            "Cost after iteration 0: 0.693147\n",
            "Cost after iteration 100: 0.690820\n",
            "Cost after iteration 200: 0.688848\n",
            "Cost after iteration 300: 0.686914\n",
            "Cost after iteration 400: 0.685017\n",
            "Cost after iteration 500: 0.683155\n",
            "Cost after iteration 600: 0.681329\n",
            "Cost after iteration 700: 0.679537\n",
            "Cost after iteration 800: 0.677779\n",
            "Cost after iteration 900: 0.676054\n",
            "train accuracy: 65.56291390728477 %\n",
            "test accuracy: 76.31578947368422 %\n",
            "\n",
            "\n",
            "learning rate = 0.00039999999999999996 \n",
            "\n",
            "Cost after iteration 0: 0.693147\n",
            "Cost after iteration 100: 0.838046\n",
            "Cost after iteration 200: 0.835168\n",
            "Cost after iteration 300: 0.832276\n",
            "Cost after iteration 400: 0.829372\n",
            "Cost after iteration 500: 0.826456\n",
            "Cost after iteration 600: 0.823530\n",
            "Cost after iteration 700: 0.820594\n",
            "Cost after iteration 800: 0.817650\n",
            "Cost after iteration 900: 0.814697\n",
            "train accuracy: 51.65562913907284 %\n",
            "test accuracy: 39.473684210526315 %\n",
            "\n",
            "\n",
            "learning rate = 0.0005 \n",
            "\n",
            "Cost after iteration 0: 0.693147\n",
            "Cost after iteration 100: 1.159869\n",
            "Cost after iteration 200: 1.155849\n",
            "Cost after iteration 300: 1.151825\n",
            "Cost after iteration 400: 1.147798\n",
            "Cost after iteration 500: 1.143766\n",
            "Cost after iteration 600: 1.139730\n",
            "Cost after iteration 700: 1.135690\n",
            "Cost after iteration 800: 1.131646\n",
            "Cost after iteration 900: 1.127598\n",
            "train accuracy: 51.65562913907284 %\n",
            "test accuracy: 39.473684210526315 %\n",
            "\n",
            "\n",
            "learning rate = 0.0006000000000000001 \n",
            "\n",
            "Cost after iteration 0: 0.693147\n",
            "Cost after iteration 100: 1.425188\n",
            "Cost after iteration 200: 1.419903\n",
            "Cost after iteration 300: 1.414642\n",
            "Cost after iteration 400: 1.409402\n",
            "Cost after iteration 500: 1.404184\n",
            "Cost after iteration 600: 1.398985\n",
            "Cost after iteration 700: 1.393804\n",
            "Cost after iteration 800: 1.388640\n",
            "Cost after iteration 900: 1.383491\n",
            "train accuracy: 51.65562913907284 %\n",
            "test accuracy: 39.473684210526315 %\n",
            "\n",
            "\n",
            "learning rate = 0.0007 \n",
            "\n",
            "Cost after iteration 0: 0.693147\n",
            "Cost after iteration 100: 1.630051\n",
            "Cost after iteration 200: 1.623505\n",
            "Cost after iteration 300: 1.617041\n",
            "Cost after iteration 400: 1.610655\n",
            "Cost after iteration 500: 1.604346\n",
            "Cost after iteration 600: 1.598108\n",
            "Cost after iteration 700: 1.591939\n",
            "Cost after iteration 800: 1.585835\n",
            "Cost after iteration 900: 1.579792\n",
            "train accuracy: 51.65562913907284 %\n",
            "test accuracy: 39.473684210526315 %\n",
            "\n",
            "\n",
            "learning rate = 0.0007999999999999999 \n",
            "\n",
            "Cost after iteration 0: 0.693147\n",
            "Cost after iteration 100: 1.769258\n",
            "Cost after iteration 200: 1.761587\n",
            "Cost after iteration 300: 1.754094\n",
            "Cost after iteration 400: 1.746773\n",
            "Cost after iteration 500: 1.739617\n",
            "Cost after iteration 600: 1.732620\n",
            "Cost after iteration 700: 1.725776\n",
            "Cost after iteration 800: 1.719077\n",
            "Cost after iteration 900: 1.712519\n",
            "train accuracy: 51.65562913907284 %\n",
            "test accuracy: 39.473684210526315 %\n",
            "\n",
            "\n",
            "learning rate = 0.0009 \n",
            "\n",
            "Cost after iteration 0: 0.693147\n",
            "Cost after iteration 100: 1.848611\n",
            "Cost after iteration 200: 1.840007\n",
            "Cost after iteration 300: 1.831699\n",
            "Cost after iteration 400: 1.823678\n",
            "Cost after iteration 500: 1.815935\n",
            "Cost after iteration 600: 1.808459\n",
            "Cost after iteration 700: 1.801242\n",
            "Cost after iteration 800: 1.794272\n",
            "Cost after iteration 900: 1.787540\n",
            "train accuracy: 51.65562913907284 %\n",
            "test accuracy: 39.473684210526315 %\n",
            "\n",
            "\n",
            "learning rate = 0.001 \n",
            "\n",
            "Cost after iteration 0: 0.693147\n",
            "Cost after iteration 100: 1.886818\n",
            "Cost after iteration 200: 1.877399\n",
            "Cost after iteration 300: 1.868397\n",
            "Cost after iteration 400: 1.859800\n",
            "Cost after iteration 500: 1.851593\n",
            "Cost after iteration 600: 1.843764\n",
            "Cost after iteration 700: 1.836300\n",
            "Cost after iteration 800: 1.829188\n",
            "Cost after iteration 900: 1.822414\n",
            "train accuracy: 51.65562913907284 %\n",
            "test accuracy: 39.473684210526315 %\n",
            "\n",
            "\n"
          ]
        }
      ]
    },
    {
      "cell_type": "markdown",
      "source": [
        "From the above experiment we can see that we achieved test accuracy: **76.974 %** for **learning rate = 0.0002**\n",
        "\n",
        "Likewise if we change the num_iterations:"
      ],
      "metadata": {
        "id": "4C4gKuT8V-TG"
      }
    },
    {
      "cell_type": "code",
      "source": [
        "from sklearn.model_selection import train_test_split\n",
        "X_train, X_test, y_train, y_test =  train_test_split(X, y, test_size=0.5, shuffle=True, random_state=77)\n",
        "\n",
        "\n",
        "for i in range(1000, 4000, 500):\n",
        "  print(\"learning rate = {} \\n\".format(i))\n",
        "  linearModel = MyLogisticRegression(i, 0.0002)\n",
        "  d = linearModel.fit_evaluate(X_train, y_train, X_test, y_test)\n",
        "  print(\"\\n\")\n"
      ],
      "metadata": {
        "colab": {
          "base_uri": "https://localhost:8080/"
        },
        "id": "X_qIh5zTWks6",
        "outputId": "86967a0f-c862-4a97-f67c-47c099c94f5e"
      },
      "execution_count": 258,
      "outputs": [
        {
          "output_type": "stream",
          "name": "stdout",
          "text": [
            "learning rate = 1000 \n",
            "\n",
            "Cost after iteration 0: 0.693147\n",
            "Cost after iteration 100: 0.691485\n",
            "Cost after iteration 200: 0.690158\n",
            "Cost after iteration 300: 0.688848\n",
            "Cost after iteration 400: 0.687555\n",
            "Cost after iteration 500: 0.686278\n",
            "Cost after iteration 600: 0.685017\n",
            "Cost after iteration 700: 0.683772\n",
            "Cost after iteration 800: 0.682543\n",
            "Cost after iteration 900: 0.681329\n",
            "train accuracy: 66.88741721854305 %\n",
            "test accuracy: 76.97368421052632 %\n",
            "\n",
            "\n",
            "learning rate = 1500 \n",
            "\n",
            "Cost after iteration 0: 0.693147\n",
            "Cost after iteration 100: 0.691485\n",
            "Cost after iteration 200: 0.690158\n",
            "Cost after iteration 300: 0.688848\n",
            "Cost after iteration 400: 0.687555\n",
            "Cost after iteration 500: 0.686278\n",
            "Cost after iteration 600: 0.685017\n",
            "Cost after iteration 700: 0.683772\n",
            "Cost after iteration 800: 0.682543\n",
            "Cost after iteration 900: 0.681329\n",
            "Cost after iteration 1000: 0.680131\n",
            "Cost after iteration 1100: 0.678947\n",
            "Cost after iteration 1200: 0.677779\n",
            "Cost after iteration 1300: 0.676625\n",
            "Cost after iteration 1400: 0.675486\n",
            "train accuracy: 65.56291390728477 %\n",
            "test accuracy: 76.31578947368422 %\n",
            "\n",
            "\n",
            "learning rate = 2000 \n",
            "\n",
            "Cost after iteration 0: 0.693147\n",
            "Cost after iteration 100: 0.691485\n",
            "Cost after iteration 200: 0.690158\n",
            "Cost after iteration 300: 0.688848\n",
            "Cost after iteration 400: 0.687555\n",
            "Cost after iteration 500: 0.686278\n",
            "Cost after iteration 600: 0.685017\n",
            "Cost after iteration 700: 0.683772\n",
            "Cost after iteration 800: 0.682543\n",
            "Cost after iteration 900: 0.681329\n",
            "Cost after iteration 1000: 0.680131\n",
            "Cost after iteration 1100: 0.678947\n",
            "Cost after iteration 1200: 0.677779\n",
            "Cost after iteration 1300: 0.676625\n",
            "Cost after iteration 1400: 0.675486\n",
            "Cost after iteration 1500: 0.674361\n",
            "Cost after iteration 1600: 0.673251\n",
            "Cost after iteration 1700: 0.672154\n",
            "Cost after iteration 1800: 0.671071\n",
            "Cost after iteration 1900: 0.670002\n",
            "train accuracy: 66.88741721854305 %\n",
            "test accuracy: 73.6842105263158 %\n",
            "\n",
            "\n",
            "learning rate = 2500 \n",
            "\n",
            "Cost after iteration 0: 0.693147\n",
            "Cost after iteration 100: 0.691485\n",
            "Cost after iteration 200: 0.690158\n",
            "Cost after iteration 300: 0.688848\n",
            "Cost after iteration 400: 0.687555\n",
            "Cost after iteration 500: 0.686278\n",
            "Cost after iteration 600: 0.685017\n",
            "Cost after iteration 700: 0.683772\n",
            "Cost after iteration 800: 0.682543\n",
            "Cost after iteration 900: 0.681329\n",
            "Cost after iteration 1000: 0.680131\n",
            "Cost after iteration 1100: 0.678947\n",
            "Cost after iteration 1200: 0.677779\n",
            "Cost after iteration 1300: 0.676625\n",
            "Cost after iteration 1400: 0.675486\n",
            "Cost after iteration 1500: 0.674361\n",
            "Cost after iteration 1600: 0.673251\n",
            "Cost after iteration 1700: 0.672154\n",
            "Cost after iteration 1800: 0.671071\n",
            "Cost after iteration 1900: 0.670002\n",
            "Cost after iteration 2000: 0.668946\n",
            "Cost after iteration 2100: 0.667904\n",
            "Cost after iteration 2200: 0.666874\n",
            "Cost after iteration 2300: 0.665857\n",
            "Cost after iteration 2400: 0.664853\n",
            "train accuracy: 70.19867549668874 %\n",
            "test accuracy: 72.36842105263158 %\n",
            "\n",
            "\n",
            "learning rate = 3000 \n",
            "\n",
            "Cost after iteration 0: 0.693147\n",
            "Cost after iteration 100: 0.691485\n",
            "Cost after iteration 200: 0.690158\n",
            "Cost after iteration 300: 0.688848\n",
            "Cost after iteration 400: 0.687555\n",
            "Cost after iteration 500: 0.686278\n",
            "Cost after iteration 600: 0.685017\n",
            "Cost after iteration 700: 0.683772\n",
            "Cost after iteration 800: 0.682543\n",
            "Cost after iteration 900: 0.681329\n",
            "Cost after iteration 1000: 0.680131\n",
            "Cost after iteration 1100: 0.678947\n",
            "Cost after iteration 1200: 0.677779\n",
            "Cost after iteration 1300: 0.676625\n",
            "Cost after iteration 1400: 0.675486\n",
            "Cost after iteration 1500: 0.674361\n",
            "Cost after iteration 1600: 0.673251\n",
            "Cost after iteration 1700: 0.672154\n",
            "Cost after iteration 1800: 0.671071\n",
            "Cost after iteration 1900: 0.670002\n",
            "Cost after iteration 2000: 0.668946\n",
            "Cost after iteration 2100: 0.667904\n",
            "Cost after iteration 2200: 0.666874\n",
            "Cost after iteration 2300: 0.665857\n",
            "Cost after iteration 2400: 0.664853\n",
            "Cost after iteration 2500: 0.663862\n",
            "Cost after iteration 2600: 0.662883\n",
            "Cost after iteration 2700: 0.661916\n",
            "Cost after iteration 2800: 0.660962\n",
            "Cost after iteration 2900: 0.660019\n",
            "train accuracy: 70.86092715231788 %\n",
            "test accuracy: 72.36842105263158 %\n",
            "\n",
            "\n",
            "learning rate = 3500 \n",
            "\n",
            "Cost after iteration 0: 0.693147\n",
            "Cost after iteration 100: 0.691485\n",
            "Cost after iteration 200: 0.690158\n",
            "Cost after iteration 300: 0.688848\n",
            "Cost after iteration 400: 0.687555\n",
            "Cost after iteration 500: 0.686278\n",
            "Cost after iteration 600: 0.685017\n",
            "Cost after iteration 700: 0.683772\n",
            "Cost after iteration 800: 0.682543\n",
            "Cost after iteration 900: 0.681329\n",
            "Cost after iteration 1000: 0.680131\n",
            "Cost after iteration 1100: 0.678947\n",
            "Cost after iteration 1200: 0.677779\n",
            "Cost after iteration 1300: 0.676625\n",
            "Cost after iteration 1400: 0.675486\n",
            "Cost after iteration 1500: 0.674361\n",
            "Cost after iteration 1600: 0.673251\n",
            "Cost after iteration 1700: 0.672154\n",
            "Cost after iteration 1800: 0.671071\n",
            "Cost after iteration 1900: 0.670002\n",
            "Cost after iteration 2000: 0.668946\n",
            "Cost after iteration 2100: 0.667904\n",
            "Cost after iteration 2200: 0.666874\n",
            "Cost after iteration 2300: 0.665857\n",
            "Cost after iteration 2400: 0.664853\n",
            "Cost after iteration 2500: 0.663862\n",
            "Cost after iteration 2600: 0.662883\n",
            "Cost after iteration 2700: 0.661916\n",
            "Cost after iteration 2800: 0.660962\n",
            "Cost after iteration 2900: 0.660019\n",
            "Cost after iteration 3000: 0.659088\n",
            "Cost after iteration 3100: 0.658168\n",
            "Cost after iteration 3200: 0.657260\n",
            "Cost after iteration 3300: 0.656363\n",
            "Cost after iteration 3400: 0.655478\n",
            "train accuracy: 71.52317880794702 %\n",
            "test accuracy: 71.71052631578948 %\n",
            "\n",
            "\n"
          ]
        }
      ]
    },
    {
      "cell_type": "markdown",
      "source": [
        "We saw that by raising the num_iterations above 1000 only raised the accuracy in the training set, leading into overfitting. Likewise, if we reduced it, we would cause underfitting"
      ],
      "metadata": {
        "id": "Hxcqzs63XRqN"
      }
    },
    {
      "cell_type": "markdown",
      "source": [
        "4. Other stopping criterias for our learning algorithm would be: \n",
        "\n",
        "    Early stopping:Prevent overfitting by stopping the training process before the model starts to memorize the training data.\n",
        "\n",
        "    Validation loss threshold:if we actually decided to split the data into three parts, we could set a threshold for the validation loss and stop the training process when the validation loss goes below a certain value. This can help prevent overfitting and ensure that the model generalizes well to new data.\n",
        "\n",
        "    Convergence criteria: We can monitor the change in the values of the weights or the gradient during training and stop the training process when the change becomes smaller than a certain threshold."
      ],
      "metadata": {
        "id": "84ID_GyQXjFw"
      }
    },
    {
      "cell_type": "markdown",
      "source": [
        "5. We notice that most of the times L2 regurlarization has higher accuracy than the L1 one, due to, as we said in the class, in the nature of the L1, which uses the sum of the absolute values of the weight in the cost function. This leads to the gradient of the cost to include a sign() function which has absurd changes in its value, worsening the update of the weights by inserting discontinuity.\n",
        "\n",
        "6. The linear models in general are much easier to implement as regard to the time they take to learn and the readability they offer to the human managing them. But, due to their nature, they can't perform in complex tasks with non-linear relationships between the feautures and the output variable as good as neural networks for instance.\n",
        "\n",
        "    However, some of their common applications in real-world scenarios are:\n",
        "\n",
        "    Predicting sales: Linear models can be used to predict sales based on factors such as advertising spending, store location, and product pricing, such as the model we designed in class for predicting house's prices in California\n",
        "\n",
        "    Credit risk assessment: Linear models can be used to assess credit risk based on factors such as income, credit history, and debt-to-income ratio.\n",
        "\n",
        "    Climate modeling: Linear models can be used to model climate patterns and predict future climate trends based on factors such as temperature, precipitation, and atmospheric pressure."
      ],
      "metadata": {
        "id": "I6FU3nStYTuP"
      }
    },
    {
      "cell_type": "markdown",
      "source": [
        "Bonus answer: Nice project, to learn by building from scratch your own LinearRegression class with guidance."
      ],
      "metadata": {
        "id": "xxjWcrwMcKAm"
      }
    }
  ],
  "metadata": {
    "colab": {
      "provenance": []
    },
    "kernelspec": {
      "display_name": "Python 3",
      "language": "python",
      "name": "python3"
    },
    "language_info": {
      "codemirror_mode": {
        "name": "ipython",
        "version": 3
      },
      "file_extension": ".py",
      "mimetype": "text/x-python",
      "name": "python",
      "nbconvert_exporter": "python",
      "pygments_lexer": "ipython3",
      "version": "3.8.9"
    },
    "vscode": {
      "interpreter": {
        "hash": "31f2aee4e71d21fbe5cf8b01ff0e069b9275f58929596ceb00d14d90e3e16cd6"
      }
    }
  },
  "nbformat": 4,
  "nbformat_minor": 0
}